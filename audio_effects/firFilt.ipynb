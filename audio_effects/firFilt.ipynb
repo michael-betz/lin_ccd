{
 "cells": [
  {
   "cell_type": "markdown",
   "metadata": {},
   "source": [
    "# Filter in time domain\n",
    "Different approach. Take the 128 bin frequency domain response. Convert into time domain to get the filter `kernel`. Use as FIR filter coefficients."
   ]
  },
  {
   "cell_type": "code",
   "execution_count": null,
   "metadata": {},
   "outputs": [],
   "source": [
    "%pylab notebook\n",
    "from PIL import Image\n",
    "import soundfile as sf\n",
    "import pygame\n",
    "from time import sleep"
   ]
  },
  {
   "cell_type": "code",
   "execution_count": null,
   "metadata": {},
   "outputs": [],
   "source": [
    "xOffs = 50\n",
    "img = Image.open(\"./220px-Lenna_(test_image).png\").convert(\"L\")\n",
    "img = img.crop([xOffs, 0, xOffs+128, img.size[1]])\n",
    "print(img.size)\n",
    "imgDat = asarray(img)\n",
    "img"
   ]
  },
  {
   "cell_type": "code",
   "execution_count": null,
   "metadata": {},
   "outputs": [],
   "source": [
    "# Get desired frequency response\n",
    "#h_f = zeros(128)\n",
    "#h_f[0:5] = 1\n",
    "#h_f[20:22] = 1\n",
    "#h_f[40:60] = 0.8\n",
    "h_f = imgDat[10, :].astype(\"float\")\n",
    "\n",
    "# Calculate FIR coefficients\n",
    "h_t = fft.irfft(h_f)\n",
    "h_t = roll(h_t, h_t.size//2)\n",
    "\n",
    "# Make filter faster by trunctation\n",
    "trunc = 64\n",
    "h_t = h_t[127-trunc:127+trunc]\n",
    "print(h_t.size)\n",
    "\n",
    "# Make filter smoother by windowing (stop band attenuation!!)\n",
    "h_t *= hamming(h_t.size)\n",
    "\n",
    "# Calculate actual response and plot\n",
    "close(\"all\")\n",
    "fig, axs = subplots(3,1, figsize=(6,7))\n",
    "h_ff = fft.rfft(h_t, 2**16)\n",
    "axs[0].plot(linspace(0, 1, h_f.size), abs(h_f), \"o\", label=\"Desired response\")\n",
    "axs[0].plot(linspace(0, 1, h_ff.size), abs(h_ff), label=\"Actual response\")\n",
    "axs[0].set_xlabel(\"Normalized frequency\")\n",
    "axs[0].set_ylabel(\"Magnitude\")\n",
    "axs[1].plot(linspace(0, 1, h_f.size), angle(h_f), \"o\", label=\"Desired response\")\n",
    "axs[1].plot(linspace(0, 1, h_ff.size), angle(h_ff), label=\"Actual response\")\n",
    "axs[1].set_xlabel(\"Normalized frequency\")\n",
    "axs[1].set_ylabel(\"Phase\")\n",
    "axs[2].stem(h_t, label=\"FIR coefficients\")\n",
    "axs[2].set_xlabel(\"Samples\")\n",
    "for ax in axs:\n",
    "    ax.legend(loc=\"upper right\")\n",
    "fig.tight_layout()"
   ]
  },
  {
   "cell_type": "markdown",
   "metadata": {},
   "source": [
    "# Realtime FIR filter\n",
    "basically\n",
    "```python\n",
    "aRes = convolve(aDat, h_t)\n",
    "```"
   ]
  },
  {
   "cell_type": "code",
   "execution_count": null,
   "metadata": {},
   "outputs": [],
   "source": [
    "class FIR(object):\n",
    "    def __init__(self, coeffs):\n",
    "        self.coeffs = coeffs\n",
    "        self.X = zeros_like(coeffs)\n",
    "        \n",
    "    def filt(self, xIn):\n",
    "        self.X = roll(self.X, 1)\n",
    "        self.X[0] = xIn\n",
    "        return mean(self.X * self.coeffs)"
   ]
  },
  {
   "cell_type": "code",
   "execution_count": null,
   "metadata": {},
   "outputs": [],
   "source": [
    "pygame.mixer.pre_init(sRate, size=-16, channels=1)\n",
    "pygame.mixer.init()"
   ]
  },
  {
   "cell_type": "code",
   "execution_count": null,
   "metadata": {},
   "outputs": [],
   "source": [
    "aDat, sRate = sf.read(\"./11_-_Vivaldi_Winter_mvt_2_Largo_-_John_Harrison_violin.ogg\", always_2d=True)\n",
    "aDat = mean(aDat, 1)\n",
    "print(sRate, aDat.shape)"
   ]
  },
  {
   "cell_type": "code",
   "execution_count": null,
   "metadata": {},
   "outputs": [],
   "source": [
    "aDat = rand(int(1e6))*2 - 1"
   ]
  },
  {
   "cell_type": "code",
   "execution_count": null,
   "metadata": {},
   "outputs": [],
   "source": [
    "secondsPerScan = 6\n",
    "samplesPerScan = sRate * secondsPerScan\n",
    "samplesPerLine = int(samplesPerScan / imgDat.shape[0])\n",
    "print(\"Linerate:\", sRate / samplesPerLine, \"Hz\")"
   ]
  },
  {
   "cell_type": "code",
   "execution_count": null,
   "metadata": {},
   "outputs": [],
   "source": [
    "f = FIR(ones(128))\n",
    "res = zeros_like(aDat)\n",
    "filtInd = 0\n",
    "for i, s in enumerate(aDat):\n",
    "    if (i%samplesPerLine) == 0:\n",
    "        row  = imgDat[filtInd,:].astype(\"float\")\n",
    "        row -= min(row)\n",
    "        row /= max(row)\n",
    "        h_t = fft.irfft(row)\n",
    "        h_t = roll(h_t, h_t.size//2)\n",
    "        trunc = 64\n",
    "        h_t = h_t[127-trunc:127+trunc]\n",
    "        h_t *= hamming(h_t.size)\n",
    "        f.coeffs = h_t / sum(h_t)\n",
    "        filtInd += 1\n",
    "        if filtInd >= imgDat.shape[0]:\n",
    "            print(\"*\", end=\"\", flush=True)\n",
    "            filtInd = 0\n",
    "    res[i] = f.filt(s)"
   ]
  },
  {
   "cell_type": "code",
   "execution_count": null,
   "metadata": {},
   "outputs": [],
   "source": [
    "res /= amax(res)"
   ]
  },
  {
   "cell_type": "code",
   "execution_count": null,
   "metadata": {},
   "outputs": [],
   "source": [
    "c.stop()"
   ]
  },
  {
   "cell_type": "code",
   "execution_count": null,
   "metadata": {},
   "outputs": [],
   "source": [
    "c = pygame.sndarray.make_sound((res * (2**15)).astype(int16)).play()"
   ]
  }
 ],
 "metadata": {
  "kernelspec": {
   "display_name": "Python 3",
   "language": "python",
   "name": "python3"
  },
  "language_info": {
   "codemirror_mode": {
    "name": "ipython",
    "version": 3
   },
   "file_extension": ".py",
   "mimetype": "text/x-python",
   "name": "python",
   "nbconvert_exporter": "python",
   "pygments_lexer": "ipython3",
   "version": "3.6.5"
  }
 },
 "nbformat": 4,
 "nbformat_minor": 2
}
